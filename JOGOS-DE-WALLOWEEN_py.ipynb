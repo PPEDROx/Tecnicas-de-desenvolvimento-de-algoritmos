import random
import time
import os

# -----------------------------
# Funções de utilidade
# -----------------------------
def limpar_tela():
    os.system('cls' if os.name == 'nt' else 'clear')

def print_lento(texto, atraso=0.03):
    for letra in texto:
        print(letra, end='', flush=True)
        time.sleep(atraso)
    print()

def linha():
    print("🕸️" * 40)

# -----------------------------
# Jogo 1 - Forca Assombrada
# -----------------------------
def forca_assombrada():
    limpar_tela()
    linha()
    print("🎃  FORCA ASSOMBRADA  🎃")
    linha()
    print("\nAdivinhe a palavra antes que o monstro te encontre...\n")

    palavras = {
        "fantasma": "Assombra castelos antigos...",
        "bruxa": "Adora voar em noites de lua cheia.",
        "abobora": "Símbolo clássico do Halloween.",
        "zumbi": "Voltou dos mortos e anda bem devagar.",
        "aranha": "Costuma morar nos cantos escuros.",
        "caveira": "Representa a morte... e o mistério."
    }

    palavra, dica = random.choice(list(palavras.items()))
    letras_descobertas = ["_" for _ in palavra]
    tentativas = 6
    usadas = set()

    print(f"Dica: {dica}\n")

    def mostrar_forca(erros):
        estagios = [
            "   -----\n   |   |\n   |   O\n   |  /|\\\n   |  / \\\n  _|_",
            "   -----\n   |   |\n   |   O\n   |  /|\\\n   |  /\n  _|_",
            "   -----\n   |   |\n   |   O\n   |  /|\\\n   |\n  _|_",
            "   -----\n   |   |\n   |   O\n   |  /|\n   |\n  _|_",
            "   -----\n   |   |\n   |   O\n   |   |\n   |\n  _|_",
            "   -----\n   |   |\n   |   O\n   |\n   |\n  _|_",
            "   -----\n   |   |\n   |\n   |\n   |\n  _|_"
        ]
        print(estagios[6 - erros])

    while tentativas > 0 and "_" in letras_descobertas:
        print("Palavra:", " ".join(letras_descobertas))
        print("Letras usadas:", " ".join(sorted(usadas)) or "(nenhuma)")
        mostrar_forca(tentativas)
        palpite = input("\nDigite uma letra: ").lower().strip()

        if not palpite.isalpha() or len(palpite) != 1:
            print("Digite apenas uma letra válida!")
            continue
        if palpite in usadas:
            print("Você já tentou essa letra.")
            continue

        usadas.add(palpite)
        limpar_tela()
        if palpite in palavra:
            for i, c in enumerate(palavra):
                if c == palpite:
                    letras_descobertas[i] = palpite
            print("🎃 Boa! Você acertou uma letra!")
        else:
            tentativas -= 1
            print("👻 Letra errada! O monstro está chegando...")
        print()
        time.sleep(1)

    if "_" not in letras_descobertas:
        print(f"\n✨ Você escapou! A palavra era **{palavra.upper()}**! ✨")
    else:
        mostrar_forca(0)
        print(f"\n💀 Você perdeu! A palavra era **{palavra.upper()}**... O monstro te pegou!")

    input("\nPressione Enter para voltar ao menu...")

# -----------------------------
# Jogo 2 - Adivinha dos Doces
# -----------------------------
def adivinha_doces():
    limpar_tela()
    linha()
    print("🍬  JOÃO E MARIA  🍬")
    linha()
    print("\nUma bruxa escondeu doces em um caldeirão encantado...\n")

    nivel = input("Escolha a dificuldade (fácil / médio / difícil): ").lower()
    if nivel == "facil":
        limite, tentativas = 20, 6
    elif nivel == "medio":
        limite, tentativas = 40, 5
    else:
        limite, tentativas = 80, 4

    numero_secreto = random.randint(1, limite)
    print(f"\nA bruxa cochicha: 'Há entre 1 e {limite} doces...'")

    while tentativas > 0:
        try:
            palpite = int(input(f"\nVocê tem {tentativas} tentativas. Adivinhe: "))
        except ValueError:
            print("Digite um número válido!")
            continue

        if palpite == numero_secreto:
            print("\n✨ CORRETO! Você ganhou todos os doces! 🍭✨")
            break
        elif palpite < numero_secreto:
            print("🔮 A bruxa ri: 'Mais... bem mais doces que isso!'")
        else:
            print("💀 Ela sussurra: 'Menos... você exagerou!'")

        tentativas -= 1
        time.sleep(1)

    if tentativas == 0 and palpite != numero_secreto:
        print(f"\nA poção evapora... o número era {numero_secreto}! Nenhum doce pra você! 🕸️")

    input("\nPressione Enter para voltar ao menu...")

# -----------------------------
# Jogo 3 - A Casa do Fantasma
# -----------------------------
def aventura_fantasma():
    limpar_tela()
    linha()
    print("🏚️  FANTASMA LOUCO 🕯️")
    linha()
    print()
    print_lento("Você e seus amigos entraram em uma velha mansão para caçar doces...")
    print_lento("Mas as portas se fecharam sozinhas!")
    print_lento("Agora, você precisa encontrar a saída antes que o fantasma apareça...\n")

    escolha = input("Há três portas: esquerda, centro e direita. Qual você escolhe? ").lower()
    if escolha == "esquerda":
        print_lento("\nVocê entra em uma biblioteca antiga.")
        acao = input("Quer acender uma vela ou sair? (acender/sair): ").lower()
        if acao == "acender":
            print_lento("A vela acende e revela uma passagem secreta!")
            print_lento("Você escapa pela passagem e vence! 🎉")
        else:
            print_lento("Um livro cai... um espírito sai dele e te persegue! 💀 Fim!")
    elif escolha == "centro":
        print_lento("\nVocê sobe as escadas que rangem...")
        acao = input("Entrar no quarto iluminado ou no escuro? (iluminado/escuro): ").lower()
        if acao == "iluminado":
            print_lento("Você encontra doces e um bilhete: 'Você está salvo!' 🍬 Vitória!")
        else:
            print_lento("Um espelho se quebra sozinho... e algo sai dele! 👻 Fim!")
    elif escolha == "direita":
        print_lento("\nVocê entra na cozinha. Um caldeirão borbulha no fogão...")
        acao = input("Olhar dentro ou fugir? (olhar/fugir): ").lower()
        if acao == "olhar":
            print_lento("Um braço sai do caldeirão e te puxa! 💀 Fim!")
        else:
            print_lento("Você foge pelos fundos e escapa! 🎃 Vitória!")
    else:
        print_lento("Você hesitou demais... o fantasma apareceu! 👻 Fim!")

    input("\nPressione Enter para voltar ao menu...")

# -----------------------------
# Menu principal
# -----------------------------
def menu():
    while True:
        limpar_tela()
        linha()
        print("🎮  JOGUINHOS DE HALLOWEEN 🎮")
        linha()
        print("\n1 - FORCA ASSOMBRADA ")
        print("2 - JOÃO E MARIA ")
        print("3 - FANTASMA LOUCO ")
        print("0 - Sair")
        linha()
        opcao = input("\nEscolha um jogo: ")

        if opcao == "1":
            forca_assombrada()
        elif opcao == "2":
            adivinha_doces()
        elif opcao == "3":
            aventura_fantasma()
        elif opcao == "0":
            limpar_tela()
            print("👻 Obrigado por jogar! Feliz Halloween! 🎃")
            break
        else:
            print("Opção inválida!")
            time.sleep(1)

# -----------------------------
# Execução principal
# -----------------------------
if __name__ == "__main__":
    menu()
