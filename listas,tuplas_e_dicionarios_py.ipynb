{
  "nbformat": 4,
  "nbformat_minor": 0,
  "metadata": {
    "colab": {
      "provenance": [],
      "authorship_tag": "ABX9TyPNbr7TQLHyWrcrAAIdfZ7g",
      "include_colab_link": true
    },
    "kernelspec": {
      "name": "python3",
      "display_name": "Python 3"
    },
    "language_info": {
      "name": "python"
    }
  },
  "cells": [
    {
      "cell_type": "markdown",
      "metadata": {
        "id": "view-in-github",
        "colab_type": "text"
      },
      "source": [
        "<a href=\"https://colab.research.google.com/github/PPEDROx/Tecnicas-de-desenvolvimento-de-algoritmos/blob/main/listas%2Ctuplas_e_dicionarios_py.ipynb\" target=\"_parent\"><img src=\"https://colab.research.google.com/assets/colab-badge.svg\" alt=\"Open In Colab\"/></a>"
      ]
    },
    {
      "cell_type": "code",
      "source": [
        "# Cria uma lista vazia\n",
        "numeros = []\n",
        "\n",
        "# Solicita 5 números inteiros ao usuário\n",
        "for i in range(5):\n",
        "    numero = int(input(f\"Digite o {i+1}º número inteiro: \"))\n",
        "    numeros.append(numero)\n",
        "\n",
        "# Exibe a lista final\n",
        "print(\"A lista digitada foi:\", numeros)"
      ],
      "metadata": {
        "colab": {
          "base_uri": "https://localhost:8080/",
          "height": 356
        },
        "id": "716upxfguaq7",
        "outputId": "65795ded-7aba-4089-e9a8-4fb06eea39a9"
      },
      "execution_count": 7,
      "outputs": [
        {
          "output_type": "error",
          "ename": "KeyboardInterrupt",
          "evalue": "Interrupted by user",
          "traceback": [
            "\u001b[0;31m---------------------------------------------------------------------------\u001b[0m",
            "\u001b[0;31mKeyboardInterrupt\u001b[0m                         Traceback (most recent call last)",
            "\u001b[0;32m/tmp/ipython-input-4192705472.py\u001b[0m in \u001b[0;36m<cell line: 0>\u001b[0;34m()\u001b[0m\n\u001b[1;32m      4\u001b[0m \u001b[0;31m# Solicita 5 números inteiros ao usuário\u001b[0m\u001b[0;34m\u001b[0m\u001b[0;34m\u001b[0m\u001b[0m\n\u001b[1;32m      5\u001b[0m \u001b[0;32mfor\u001b[0m \u001b[0mi\u001b[0m \u001b[0;32min\u001b[0m \u001b[0mrange\u001b[0m\u001b[0;34m(\u001b[0m\u001b[0;36m5\u001b[0m\u001b[0;34m)\u001b[0m\u001b[0;34m:\u001b[0m\u001b[0;34m\u001b[0m\u001b[0;34m\u001b[0m\u001b[0m\n\u001b[0;32m----> 6\u001b[0;31m     \u001b[0mnumero\u001b[0m \u001b[0;34m=\u001b[0m \u001b[0mint\u001b[0m\u001b[0;34m(\u001b[0m\u001b[0minput\u001b[0m\u001b[0;34m(\u001b[0m\u001b[0;34mf\"Digite o {i+1}º número inteiro: \"\u001b[0m\u001b[0;34m)\u001b[0m\u001b[0;34m)\u001b[0m\u001b[0;34m\u001b[0m\u001b[0;34m\u001b[0m\u001b[0m\n\u001b[0m\u001b[1;32m      7\u001b[0m     \u001b[0mnumeros\u001b[0m\u001b[0;34m.\u001b[0m\u001b[0mappend\u001b[0m\u001b[0;34m(\u001b[0m\u001b[0mnumero\u001b[0m\u001b[0;34m)\u001b[0m\u001b[0;34m\u001b[0m\u001b[0;34m\u001b[0m\u001b[0m\n\u001b[1;32m      8\u001b[0m \u001b[0;34m\u001b[0m\u001b[0m\n",
            "\u001b[0;32m/usr/local/lib/python3.12/dist-packages/ipykernel/kernelbase.py\u001b[0m in \u001b[0;36mraw_input\u001b[0;34m(self, prompt)\u001b[0m\n\u001b[1;32m   1175\u001b[0m                 \u001b[0;34m\"raw_input was called, but this frontend does not support input requests.\"\u001b[0m\u001b[0;34m\u001b[0m\u001b[0;34m\u001b[0m\u001b[0m\n\u001b[1;32m   1176\u001b[0m             )\n\u001b[0;32m-> 1177\u001b[0;31m         return self._input_request(\n\u001b[0m\u001b[1;32m   1178\u001b[0m             \u001b[0mstr\u001b[0m\u001b[0;34m(\u001b[0m\u001b[0mprompt\u001b[0m\u001b[0;34m)\u001b[0m\u001b[0;34m,\u001b[0m\u001b[0;34m\u001b[0m\u001b[0;34m\u001b[0m\u001b[0m\n\u001b[1;32m   1179\u001b[0m             \u001b[0mself\u001b[0m\u001b[0;34m.\u001b[0m\u001b[0m_parent_ident\u001b[0m\u001b[0;34m[\u001b[0m\u001b[0;34m\"shell\"\u001b[0m\u001b[0;34m]\u001b[0m\u001b[0;34m,\u001b[0m\u001b[0;34m\u001b[0m\u001b[0;34m\u001b[0m\u001b[0m\n",
            "\u001b[0;32m/usr/local/lib/python3.12/dist-packages/ipykernel/kernelbase.py\u001b[0m in \u001b[0;36m_input_request\u001b[0;34m(self, prompt, ident, parent, password)\u001b[0m\n\u001b[1;32m   1217\u001b[0m             \u001b[0;32mexcept\u001b[0m \u001b[0mKeyboardInterrupt\u001b[0m\u001b[0;34m:\u001b[0m\u001b[0;34m\u001b[0m\u001b[0;34m\u001b[0m\u001b[0m\n\u001b[1;32m   1218\u001b[0m                 \u001b[0;31m# re-raise KeyboardInterrupt, to truncate traceback\u001b[0m\u001b[0;34m\u001b[0m\u001b[0;34m\u001b[0m\u001b[0m\n\u001b[0;32m-> 1219\u001b[0;31m                 \u001b[0;32mraise\u001b[0m \u001b[0mKeyboardInterrupt\u001b[0m\u001b[0;34m(\u001b[0m\u001b[0;34m\"Interrupted by user\"\u001b[0m\u001b[0;34m)\u001b[0m \u001b[0;32mfrom\u001b[0m \u001b[0;32mNone\u001b[0m\u001b[0;34m\u001b[0m\u001b[0;34m\u001b[0m\u001b[0m\n\u001b[0m\u001b[1;32m   1220\u001b[0m             \u001b[0;32mexcept\u001b[0m \u001b[0mException\u001b[0m\u001b[0;34m:\u001b[0m\u001b[0;34m\u001b[0m\u001b[0;34m\u001b[0m\u001b[0m\n\u001b[1;32m   1221\u001b[0m                 \u001b[0mself\u001b[0m\u001b[0;34m.\u001b[0m\u001b[0mlog\u001b[0m\u001b[0;34m.\u001b[0m\u001b[0mwarning\u001b[0m\u001b[0;34m(\u001b[0m\u001b[0;34m\"Invalid Message:\"\u001b[0m\u001b[0;34m,\u001b[0m \u001b[0mexc_info\u001b[0m\u001b[0;34m=\u001b[0m\u001b[0;32mTrue\u001b[0m\u001b[0;34m)\u001b[0m\u001b[0;34m\u001b[0m\u001b[0;34m\u001b[0m\u001b[0m\n",
            "\u001b[0;31mKeyboardInterrupt\u001b[0m: Interrupted by user"
          ]
        }
      ]
    },
    {
      "cell_type": "code",
      "source": [
        "# Cria uma lista de números (exemplo)\n",
        "numeros = [-5, 3, -8, 2, -1]\n",
        "\n",
        "# Aplica a função módulo (valor absoluto) a cada elemento\n",
        "modulos = [abs(num) for num in numeros]\n",
        "\n",
        "# Exibe o resultado\n",
        "print(\"Lista original:\", numeros)\n",
        "print(\"Lista com módulo aplicado:\", modulos)"
      ],
      "metadata": {
        "id": "KMtyrx0QvpsT"
      },
      "execution_count": null,
      "outputs": []
    },
    {
      "cell_type": "code",
      "source": [
        "# Cria uma lista de números (exemplo)\n",
        "numeros = [-5, 3, -8, 2, -1, 7]\n",
        "\n",
        "# Remove todos os números negativos\n",
        "numeros = [num for num in numeros if num >= 0]\n",
        "\n",
        "# Exibe a lista sem números negativos\n",
        "print(\"Lista sem números negativos:\", numeros)\n"
      ],
      "metadata": {
        "id": "HwVg-Z25vp3s"
      },
      "execution_count": null,
      "outputs": []
    },
    {
      "cell_type": "code",
      "source": [
        "# Cria uma lista vazia para armazenar as notas\n",
        "notas = []\n",
        "\n",
        "print(\"Digite as notas da prova (digite um número negativo para encerrar):\")\n",
        "\n",
        "while True:\n",
        "    nota = float(input(\"Nota: \"))\n",
        "    if nota < 0:\n",
        "        break  # Encerra o loop quando o usuário digitar um número negativo\n",
        "    notas.append(nota)\n",
        "\n",
        "# Verifica se a lista não está vazia antes de calcular a média\n",
        "if len(notas) > 0:\n",
        "    media = sum(notas) / len(notas)\n",
        "    print(f\"\\nNotas digitadas: {notas}\")\n",
        "    print(f\"Média das notas: {media:.2f}\")\n",
        "else:\n",
        "    print(\"Nenhuma nota válida foi digitada.\")"
      ],
      "metadata": {
        "id": "llCFtA1IvqDk"
      },
      "execution_count": null,
      "outputs": []
    },
    {
      "cell_type": "code",
      "source": [
        "pares = []\n",
        "impares = []\n",
        "\n",
        "while True:\n",
        "    numero = int(input(\"Digite um número positivo (ou um número negativo para sair): \"))\n",
        "\n",
        "    if numero < 0:\n",
        "        break  # encerra o loop quando o número for negativo\n",
        "\n",
        "    if numero % 2 == 0:\n",
        "        pares.append(numero)\n",
        "    else:\n",
        "        impares.append(numero)\n",
        "\n",
        "total = len(pares) + len(impares)\n",
        "\n",
        "if total > 0:\n",
        "    porcentagem_pares = (len(pares) / total) * 100\n",
        "    porcentagem_impares = (len(impares) / total) * 100\n",
        "\n",
        "    print(\"\\n=== Resultados ===\")\n",
        "    print(f\"Números pares: {pares}\")\n",
        "    print(f\"Números ímpares: {impares}\")\n",
        "    print(f\"Porcentagem de pares: {porcentagem_pares:.2f}%\")\n",
        "    print(f\"Porcentagem de ímpares: {porcentagem_impares:.2f}%\")\n",
        "else:\n",
        "    print(\"Nenhum número positivo foi digitado.\")"
      ],
      "metadata": {
        "id": "z_NLBDJTvqmU"
      },
      "execution_count": null,
      "outputs": []
    },
    {
      "cell_type": "code",
      "source": [
        "numeros = []\n",
        "\n",
        "while True:\n",
        "    numero = int(input(\"Digite um número positivo (ou um número negativo para sair): \"))\n",
        "\n",
        "    if numero < 0:\n",
        "        break  # encerra o loop quando o número for negativo\n",
        "\n",
        "    if numero not in numeros:\n",
        "        numeros.append(numero)  # adiciona apenas se ainda não estiver na lista\n",
        "\n",
        "print(\"\\n=== Números digitados (sem repetição) ===\")\n",
        "print(numeros)"
      ],
      "metadata": {
        "id": "AjSNLLnIvqy7"
      },
      "execution_count": null,
      "outputs": []
    },
    {
      "cell_type": "code",
      "source": [
        "pessoas = []  # lista para armazenar as tuplas (altura, peso)\n",
        "\n",
        "for i in range(5):\n",
        "    print(f\"\\nPessoa {i + 1}:\")\n",
        "    altura = float(input(\"Digite a altura (em metros): \"))\n",
        "    peso = float(input(\"Digite o peso (em kg): \"))\n",
        "\n",
        "    pessoas.append((altura, peso))  # armazena como tupla (altura, peso)\n",
        "\n",
        "# Verifica se há pelo menos duas pessoas com mesma altura e mesmo peso\n",
        "repetido = False\n",
        "for i in range(len(pessoas)):\n",
        "    for j in range(i + 1, len(pessoas)):\n",
        "        if pessoas[i] == pessoas[j]:\n",
        "            repetido = True\n",
        "            break\n",
        "    if repetido:\n",
        "        break\n",
        "\n",
        "print(\"\\n=== Resultado ===\")\n",
        "if repetido:\n",
        "    print(\"Pelo menos duas pessoas têm a mesma altura e o mesmo peso.\")\n",
        "else:\n",
        "    print(\"Nenhuma combinação de altura e peso se repete.\")"
      ],
      "metadata": {
        "id": "CSeFwj6lvq-U"
      },
      "execution_count": null,
      "outputs": []
    },
    {
      "cell_type": "code",
      "source": [
        "# Cria uma lista para armazenar as pessoas\n",
        "pessoas = []\n",
        "\n",
        "print(\"Digite o nome e a idade das pessoas.\")\n",
        "print(\"Para encerrar, pressione ENTER sem digitar um nome.\\n\")\n",
        "\n",
        "while True:\n",
        "    nome = input(\"Nome: \")\n",
        "    if nome == \"\":\n",
        "        break  # Sai do loop se o nome for vazio\n",
        "    idade = int(input(\"Idade: \"))\n",
        "    pessoas.append((nome, idade))  # Armazena como uma tupla (nome, idade)\n",
        "\n",
        "# Verifica se a lista não está vazia\n",
        "if pessoas:\n",
        "    # Encontra a pessoa mais velha usando a função max()\n",
        "    mais_velha = max(pessoas, key=lambda p: p[1])\n",
        "    print(f\"\\nA pessoa mais velha é {mais_velha[0]}, com {mais_velha[1]} anos.\")\n",
        "else:\n",
        "    print(\"\\nNenhuma pessoa foi cadastrada.\")"
      ],
      "metadata": {
        "id": "HeD58bYzvrJc"
      },
      "execution_count": null,
      "outputs": []
    },
    {
      "cell_type": "code",
      "source": [
        "alunos = {\n",
        "    \"Alice\": 8.5,\n",
        "    \"Bruno\": 7.8,\n",
        "    \"Carla\": 9.2,\n",
        "    \"Diego\": 6.9,\n",
        "    \"Eva\": 8.0,\n",
        "    \"Fernando\": 7.5,\n",
        "    \"Gabriela\": 9.0,\n",
        "    \"Henrique\": 6.7,\n",
        "    \"Isabela\": 8.3,\n",
        "    \"João\": 7.2\n",
        "}\n",
        "\n",
        "print(\"Quantidade de alunos:\", len(alunos))\n",
        "\n",
        "# Exibir “Sim” ou “Não”\n",
        "if 0 in alunos.values():\n",
        "    print(\"Alguém tirou nota zero? Sim\")\n",
        "else:\n",
        "    print(\"Alguém tirou nota zero? Não\")\n",
        "\n",
        "print(\"Menor nota:\", min(alunos.values()))\n",
        "print(\"Maior nota:\", max(alunos.values()))"
      ],
      "metadata": {
        "id": "pvhhEsDOvrSz"
      },
      "execution_count": null,
      "outputs": []
    },
    {
      "cell_type": "code",
      "source": [
        "animes = {\n",
        "    \"Naruto\": 220,\n",
        "    \"Jujutsu Kaisen\": 47,\n",
        "    \"Dragon Ball Z\": 291,\n",
        "    \"Death Note\": 37,\n",
        "    \"Fullmetal Alchemist\": 64,\n",
        "    \"Evangelion\": 26,\n",
        "    \"Berserk\": 25,\n",
        "    \"Code Geass\": 50,\n",
        "    \"Akame ga Kill\": 24,\n",
        "    \"Elfen Lied\": 13\n",
        "}\n",
        "\n",
        "# 1. Total de episódios\n",
        "total = sum(animes.values())\n",
        "print(\"Total de episódios:\", total)\n",
        "\n",
        "# 2. Substituir valores pelo percentual\n",
        "for anime in animes:\n",
        "    animes[anime] = (animes[anime] / total) * 100\n",
        "\n",
        "# 3. Ordenar em ordem decrescente de percentual\n",
        "animes_ordenados = dict(sorted(animes.items(), key=lambda x: x[1], reverse=True))\n",
        "\n",
        "# 4. Exibir nome e percentual formatado\n",
        "print(\"\\nPercentual de episódios por anime:\")\n",
        "for nome, percentual in animes_ordenados.items():\n",
        "    print(f\"{nome}: {percentual:.2f}%\")"
      ],
      "metadata": {
        "id": "DuUDHoagvrdT"
      },
      "execution_count": null,
      "outputs": []
    }
  ]
}